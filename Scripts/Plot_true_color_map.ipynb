{
 "cells": [
  {
   "cell_type": "markdown",
   "id": "a5b0652e-4347-4fcf-9484-d7ffd3c5538c",
   "metadata": {},
   "source": [
    "# Visualizing GOES-16 ABI Satellite Data for the Amazon Region\n",
    "\n",
    "This code processes NOAA GOES-16 ABI (Advanced Baseline Imager) data to create a true-color image of the Amazon region. It performs the following steps:\n",
    "\n",
    "1. **Open and Prepare Data**: Loads satellite data and interpolated latitude/longitude values from NetCDF files.\n",
    "2. **Projection Setup**: Extracts projection parameters from the dataset and applies a geostationary projection for accurate map visualization.\n",
    "3. **Image Processing**: Extracts individual RGB channels from the satellite data, applies gamma correction, and combines them into a true-color image.\n",
    "4. **Map Visualization**: Creates a map with the specified region of interest (Amazon Basin), overlays the true-color image, and adds the Amazon Basin boundary using a shapefile.\n",
    "5. **Gridlines and Labels**: Customizes gridlines and axis labels for longitude and latitude.\n",
    "6. **Display or Save**: Displays the plot or saves it as an image.\n",
    "\n",
    "The script uses Cartopy for map projections, Matplotlib for visualization, and GeoPandas for handling geospatial data. It focuses on a specific bounding box in the Amazon region and is designed to visualize geostationary satellite data effectively for further analysis."
   ]
  },
  {
   "cell_type": "code",
   "execution_count": null,
   "id": "2fadcf2d-96e6-4f3d-bc60-014a471586c8",
   "metadata": {},
   "outputs": [],
   "source": [
    "# Importing necessary libraries\n",
    "\n",
    "# xarray is used for working with labeled multi-dimensional arrays (especially for scientific data).\n",
    "import xarray as xr\n",
    "# matplotlib.pyplot is a popular plotting library for creating static, animated, and interactive visualizations.\n",
    "import matplotlib.pyplot as plt\n",
    "# cartopy is used for cartographic projections and map visualizations.\n",
    "import cartopy.crs as ccrs\n",
    "# numpy is the core library for scientific computing, especially for numerical operations and array manipulations.\n",
    "import numpy as np\n",
    "# LongitudeFormatter and LatitudeFormatter are used to format geographic coordinates on plots.\n",
    "from cartopy.mpl.ticker import LongitudeFormatter, LatitudeFormatter\n",
    "# pyproj is a library for transforming geographical coordinates (latitude/longitude) to projected coordinates.\n",
    "from pyproj import Proj\n",
    "# geopandas extends pandas to work with geospatial data.\n",
    "import geopandas as gpd\n",
    "# os provides a way to interact with the operating system, such as file manipulation.\n",
    "import os"
   ]
  },
  {
   "cell_type": "code",
   "execution_count": null,
   "id": "f5fa2504-3ae3-483d-b08a-afd562854147",
   "metadata": {},
   "outputs": [],
   "source": [
    "# Define the output directory for the data\n",
    "datadir = '/home/jovyan/...'  # Replace this with the desired directory path where the data will be saved.\n",
    "# Example: This path is specific to the current environment (e.g., a JupyterHub instance or local machine).\n",
    "# Update it based on your system's directory structure."
   ]
  },
  {
   "cell_type": "code",
   "execution_count": null,
   "id": "668398bc-f8a9-4c26-a4ac-b8e15763d53e",
   "metadata": {},
   "outputs": [],
   "source": [
    "# Open the dataset containing the satellite data (e.g., AOD or other ABI data)\n",
    "ds = xr.open_dataset(datadir+'OR_ABI-L2-MCMIPF-M6_G16-2020-232-1450.nc')\n",
    "\n",
    "# Open a separate dataset containing the interpolated latitude and longitude values for the full disk\n",
    "ds_latlon = xr.open_dataset('/home/jovyan/goes16_abi_full_disk_interpolated_lat_lon.nc')\n",
    "\n",
    "# Extract latitude and longitude values from the ds_latlon dataset\n",
    "lat = ds_latlon['latitude'].values  # Extract latitude values\n",
    "lon = ds_latlon['longitude'].values  # Extract longitude values\n",
    "\n",
    "# Assign the extracted latitude and longitude values to the satellite dataset (ds)\n",
    "# The dimensions for latitude and longitude are set to match the 'y' and 'x' coordinates of the satellite data\n",
    "ds = ds.assign_coords({'latitude': (('y', 'x'), lat), 'longitude': (('y', 'x'), lon)})\n",
    "\n",
    "# Extract satellite projection parameters from the dataset\n",
    "# These parameters are used for geostationary projection\n",
    "sat_h = ds.goes_imager_projection.perspective_point_height  # Satellite height\n",
    "sat_lon = ds.goes_imager_projection.longitude_of_projection_origin  # Longitude of the projection origin\n",
    "sat_sweep = ds.goes_imager_projection.sweep_angle_axis  # Sweep angle axis of the satellite\n",
    "\n",
    "# Create a geostationary projection object using the extracted parameters\n",
    "oproj = ccrs.Geostationary(central_longitude=sat_lon, satellite_height=sat_h, sweep_axis=sat_sweep)"
   ]
  },
  {
   "cell_type": "code",
   "execution_count": null,
   "id": "0f4d688c-ae94-42e6-9d9c-eecc06a728c3",
   "metadata": {},
   "outputs": [],
   "source": [
    "# Extracting the individual channels (Red, Green, Blue) from the dataset\n",
    "R = ds.CMI_C02  # Red channel (band C02)\n",
    "G = ds.CMI_C03  # Green channel (band C03)\n",
    "B = ds.CMI_C01  # Blue channel (band C01)\n",
    "\n",
    "# Apply range limits for each channel to ensure that RGB values are between 0 and 1\n",
    "R = R.clip(0, 1)  # Clip red values to the [0, 1] range\n",
    "G = G.clip(0, 1)  # Clip green values to the [0, 1] range\n",
    "B = B.clip(0, 1)  # Clip blue values to the [0, 1] range\n",
    "\n",
    "# Apply gamma correction to adjust the brightness of the channels\n",
    "# Gamma correction compensates for the nonlinear response of the ABI detectors\n",
    "gamma = 2.2  # Standard gamma value for correction\n",
    "R = R ** (1 / gamma)  # Apply gamma correction to red channel\n",
    "G = G ** (1 / gamma)  # Apply gamma correction to green channel\n",
    "B = B ** (1 / gamma)  # Apply gamma correction to blue channel\n",
    "\n",
    "# Calculate the \"True\" Green channel as a weighted average of Red, Green, and Blue channels\n",
    "# This method is often used to enhance the green representation in satellite images\n",
    "G_true = 0.45 * R + 0.1 * G + 0.45 * B  # Weighted combination\n",
    "G_true = G_true.clip(0, 1)  # Apply range limits again, just in case\n",
    "\n",
    "# Extract values as NumPy arrays to prepare for plotting\n",
    "R_vals = R.values  # Red channel values as NumPy array\n",
    "G_vals = G_true.values  # True green channel values as NumPy array\n",
    "B_vals = B.values  # Blue channel values as NumPy array\n",
    "\n",
    "# Combine the individual RGB channels into a single RGB image array\n",
    "# Shape of RGB_image will be (latitude, longitude, 3), with the third dimension representing the RGB channels\n",
    "RGB_image = np.stack([R_vals, G_vals, B_vals], axis=-1)  # Combine into an RGB array"
   ]
  },
  {
   "cell_type": "code",
   "execution_count": null,
   "id": "2e61582e-eaec-4dd5-a139-9e194d67cd2b",
   "metadata": {},
   "outputs": [],
   "source": [
    "# Plot the RGB image\n",
    "plt.figure(figsize=(10, 10))\n",
    "plt.imshow(RGB_image, origin='upper')\n",
    "plt.xlabel(\"Longitude\")\n",
    "plt.ylabel(\"Latitude\")\n",
    "plt.title(\"True Color Image\")\n",
    "plt.show()"
   ]
  },
  {
   "cell_type": "code",
   "execution_count": null,
   "id": "24419b02-98e7-45d6-8cdc-deb76f52badb",
   "metadata": {},
   "outputs": [],
   "source": [
    "# Define the bounding box coordinates for a region of interest\n",
    "# Box 1: For the first example, the bounding box covers a region in the Amazon area\n",
    "minlon, maxlon, minlat, maxlat = -72, -48, -11, -3  # Example box 1\n",
    "\n",
    "# Box 2: For the second example, the bounding box covers a different region\n",
    "#minlon, maxlon, minlat, maxlat = -58, -56, -18, -16 # Example box 2\n",
    "\n",
    "# Box 3: For the second example, the bounding box covers a different region, smaller, in the Amazon\n",
    "#minlon, maxlon, minlat, maxlat = -57, -54, -9, -6  # Amazon small box"
   ]
  },
  {
   "cell_type": "code",
   "execution_count": null,
   "id": "37ecac15-05fe-47de-ba9b-ea76ecd51e36",
   "metadata": {},
   "outputs": [],
   "source": [
    "# Define map projection and create the figure\n",
    "newproj = ccrs.PlateCarree()  # Use PlateCarree projection for the map (regular lat/lon grid)\n",
    "geo = ccrs.Geodetic()  # Use Geodetic projection for geodesic lines (accurate measurement of distances)\n",
    "fig = plt.figure(figsize=(6, 4), dpi=300)  # Create a figure with the specified size and high DPI\n",
    "ax = fig.add_subplot(1, 1, 1, projection=newproj)  # Create a map subplot with the defined projection\n",
    "\n",
    "# Set the extent of the map (focus on the region of interest with a buffer around the area)\n",
    "ax.set_extent([minlon, maxlon, minlat, maxlat], crs=newproj)\n",
    "\n",
    "# Plot the image on the map (RGB image in the correct projection)\n",
    "ax.imshow(RGB_image, origin='upper', transform=oproj, zorder=1)\n",
    "\n",
    "# Load and simplify the Amazon basin shapefile (reduce vertices for faster rendering)\n",
    "os.environ['SHAPE_RESTORE_SHX'] = 'YES'  # Ensure that SHX files are restored for shapefile handling\n",
    "amazon_basin = gpd.read_file('amazonbasinjson.shp')  # Read the Amazon basin shapefile\n",
    "amazon_basin['geometry'] = amazon_basin.geometry.simplify(tolerance=0.01)  # Simplify the geometry to reduce vertices\n",
    "\n",
    "# Plot the Amazon basin boundary on the map (green boundary with no fill)\n",
    "amazon_basin.plot(ax=ax, edgecolor='Green', facecolor='none', linewidth=2, zorder=2)\n",
    "\n",
    "# Add gridlines and labels (customize formatting for longitude and latitude labels)\n",
    "gl = ax.gridlines(crs=newproj, draw_labels=True, linewidth=0.5, color='black', alpha=0.5, linestyle='--')  # Add gridlines\n",
    "gl.xlabels_top = False  # Disable top x-axis labels\n",
    "gl.ylabels_right = False  # Disable right y-axis labels\n",
    "gl.xformatter = LongitudeFormatter(zero_direction_label=True, number_format='.0f')  # Format longitude labels\n",
    "gl.yformatter = LatitudeFormatter(number_format='.0f')  # Format latitude labels\n",
    "gl.xlabel_style = {'size': 8}  # Set font size for x-axis labels\n",
    "gl.ylabel_style = {'size': 8}  # Set font size for y-axis labels\n",
    "\n",
    "# Show the plot or save it as an image\n",
    "plt.show()\n",
    "# plt.savefig('filename.png', dpi=300, bbox_inches='tight', pad_inches=0.1)  # Save the plot as an image"
   ]
  }
 ],
 "metadata": {
  "kernelspec": {
   "display_name": "Python 3 (ipykernel)",
   "language": "python",
   "name": "python3"
  },
  "language_info": {
   "codemirror_mode": {
    "name": "ipython",
    "version": 3
   },
   "file_extension": ".py",
   "mimetype": "text/x-python",
   "name": "python",
   "nbconvert_exporter": "python",
   "pygments_lexer": "ipython3",
   "version": "3.12.5"
  }
 },
 "nbformat": 4,
 "nbformat_minor": 5
}
