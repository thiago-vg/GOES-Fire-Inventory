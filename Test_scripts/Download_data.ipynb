{
 "cells": [
  {
   "cell_type": "code",
   "execution_count": 1,
   "id": "15096cc9-fd95-4adf-a114-0b319c4dbf0f",
   "metadata": {},
   "outputs": [],
   "source": [
    "#Import the libraries\n",
    "import s3fs\n",
    "import numpy as np\n",
    "#from   dask.distributed import Client\n",
    "#import dask.array as da"
   ]
  },
  {
   "cell_type": "code",
   "execution_count": 2,
   "id": "6f3f0ef5-feb3-40e8-b760-e90226f15ec6",
   "metadata": {},
   "outputs": [],
   "source": [
    "#Function to collect and save in a list the files that are in the informed period of interest\n",
    "def get_files(s_year,e_year,s_day,e_day,s_hour,e_our):\n",
    "    print('Getting files')\n",
    "    aux = []\n",
    "    for y in range(s_year,e_year+1):\n",
    "        for d in range(s_day,e_day):\n",
    "            #The range of the variable 'd' will determine the days of the product\n",
    "            for j in range(s_hour,e_our):\n",
    "\n",
    "                try: \n",
    "                     FD = fs.ls('noaa-goes16/ABI-L2-FDCF/'+str(y)+'/'+str(d).zfill(3)+'/'+str(j).zfill(2)+'/') # list of 6 files for 2020 day 228, UTC time 15:00, 15:10, 15:20, ..., 15:50\n",
    "                     aux = np.append(aux,FD)\n",
    "                except FileNotFoundError as e:\n",
    "                    print(f\"FileNotFoundError file {'noaa-goes16/ABI-L2-FDCF/'+str(y)+'/'+str(d).zfill(3)+'/'+str(j).zfill(2)+'/'}: {e}. Skipping this file.\")\n",
    "                    continue  # Skip to the next file in the list\n",
    "                \n",
    "               \n",
    "    return aux"
   ]
  },
  {
   "cell_type": "code",
   "execution_count": 3,
   "id": "9b0f06b6-43ae-4c4c-beda-9305fa0ee207",
   "metadata": {},
   "outputs": [],
   "source": [
    "# Open an ABI netCDF4 data file\n",
    "\n",
    "# Initialize S3 file system\n",
    "fs = s3fs.S3FileSystem(anon=True, use_listings_cache=True)\n",
    "\n",
    "#Collect a example GOES-East data\n",
    "# list of 6 files for 2024 day 2056, UTC time 15:00, 15:10, 15:20, ..., 15:50\n",
    "#files = fs.ls('noaa-goes16/ABI-L2-AODF/2024/'+str(256).zfill(3)+'/'+str(15).zfill(2)+'/') \n",
    "#files"
   ]
  },
  {
   "cell_type": "code",
   "execution_count": 21,
   "id": "b7810007-c971-4d7b-b7cb-a99ea68c939c",
   "metadata": {},
   "outputs": [
    {
     "name": "stdout",
     "output_type": "stream",
     "text": [
      "Getting files\n"
     ]
    },
    {
     "data": {
      "text/plain": [
       "array(['noaa-goes16/ABI-L2-FDCF/2020/210/19/OR_ABI-L2-FDCF-M6_G16_s20202101900199_e20202101909507_c20202101910073.nc',\n",
       "       'noaa-goes16/ABI-L2-FDCF/2020/210/19/OR_ABI-L2-FDCF-M6_G16_s20202101910199_e20202101919507_c20202101920052.nc',\n",
       "       'noaa-goes16/ABI-L2-FDCF/2020/210/19/OR_ABI-L2-FDCF-M6_G16_s20202101920199_e20202101929507_c20202101930056.nc',\n",
       "       'noaa-goes16/ABI-L2-FDCF/2020/210/19/OR_ABI-L2-FDCF-M6_G16_s20202101930199_e20202101939507_c20202101940032.nc',\n",
       "       'noaa-goes16/ABI-L2-FDCF/2020/210/19/OR_ABI-L2-FDCF-M6_G16_s20202101940199_e20202101949506_c20202101950047.nc',\n",
       "       'noaa-goes16/ABI-L2-FDCF/2020/210/19/OR_ABI-L2-FDCF-M6_G16_s20202101950198_e20202101959506_c20202102000014.nc'],\n",
       "      dtype='<U108')"
      ]
     },
     "execution_count": 21,
     "metadata": {},
     "output_type": "execute_result"
    }
   ],
   "source": [
    "#Using the function to get the files from days and hours specified\n",
    "start_year,end_year,start_day,end_day,start_hour,end_our = 2020,2020,210,211,19,20\n",
    "data_list= get_files(start_year,end_year,start_day,end_day,start_hour,end_our)\n",
    "data_list"
   ]
  },
  {
   "cell_type": "code",
   "execution_count": 22,
   "id": "d7126e7b-a452-41d4-afd9-198420d969ac",
   "metadata": {},
   "outputs": [
    {
     "data": {
      "text/plain": [
       "'noaa-goes16/ABI-L2-FDCF/2020/210/19/OR_ABI-L2-FDCF-M6_G16_s20202101900199_e20202101909507_c20202101910073.nc'"
      ]
     },
     "execution_count": 22,
     "metadata": {},
     "output_type": "execute_result"
    }
   ],
   "source": [
    "files = data_list[0]\n",
    "files"
   ]
  },
  {
   "cell_type": "code",
   "execution_count": 23,
   "id": "5810dd66-4184-495b-819e-cd7e87a5569b",
   "metadata": {},
   "outputs": [],
   "source": [
    "#Define output directory for the data\n",
    "datadir = '/home/jovyan/Article_review/Data/'"
   ]
  },
  {
   "cell_type": "code",
   "execution_count": 24,
   "id": "6c20c34b-bc9d-4b4b-af49-0b08ea886ffa",
   "metadata": {},
   "outputs": [
    {
     "data": {
      "text/plain": [
       "'OR_ABI-L2-FDCF-M6_G16_s-2020-210-1900'"
      ]
     },
     "execution_count": 24,
     "metadata": {},
     "output_type": "execute_result"
    }
   ],
   "source": [
    "prodbase = files.split('/')[5][:23]\n",
    "starttime = files.split('/')[5].split('_')[3]\n",
    "year,julian,hhmm=starttime[1:5],starttime[5:8],starttime[8:12]\n",
    "date_info=year+'-'+julian+'-'+hhmm\n",
    "fileshtitle = prodbase+'-'+date_info\n",
    "fileshtitle"
   ]
  },
  {
   "cell_type": "code",
   "execution_count": 18,
   "id": "83f0c079-1fcf-42e2-a977-2afc80bb74ca",
   "metadata": {},
   "outputs": [
    {
     "ename": "IndexError",
     "evalue": "list index out of range",
     "output_type": "error",
     "traceback": [
      "\u001b[0;31m---------------------------------------------------------------------------\u001b[0m",
      "\u001b[0;31mIndexError\u001b[0m                                Traceback (most recent call last)",
      "Cell \u001b[0;32mIn[18], line 4\u001b[0m\n\u001b[1;32m      1\u001b[0m \u001b[38;5;66;03m#Loop through the files selected previously\u001b[39;00m\n\u001b[1;32m      2\u001b[0m \u001b[38;5;28;01mfor\u001b[39;00m i \u001b[38;5;129;01min\u001b[39;00m \u001b[38;5;28mrange\u001b[39m(\u001b[38;5;241m0\u001b[39m,\u001b[38;5;241m1\u001b[39m):\n\u001b[1;32m      3\u001b[0m     \u001b[38;5;66;03m#Gather the date-time information from the file\u001b[39;00m\n\u001b[0;32m----> 4\u001b[0m     prodbase \u001b[38;5;241m=\u001b[39m \u001b[43mfiles\u001b[49m\u001b[43m[\u001b[49m\u001b[43mi\u001b[49m\u001b[43m]\u001b[49m\u001b[38;5;241;43m.\u001b[39;49m\u001b[43msplit\u001b[49m\u001b[43m(\u001b[49m\u001b[38;5;124;43m'\u001b[39;49m\u001b[38;5;124;43m/\u001b[39;49m\u001b[38;5;124;43m'\u001b[39;49m\u001b[43m)\u001b[49m\u001b[43m[\u001b[49m\u001b[38;5;241;43m5\u001b[39;49m\u001b[43m]\u001b[49m[:\u001b[38;5;241m23\u001b[39m]\n\u001b[1;32m      5\u001b[0m     starttime \u001b[38;5;241m=\u001b[39m files[i]\u001b[38;5;241m.\u001b[39msplit(\u001b[38;5;124m'\u001b[39m\u001b[38;5;124m/\u001b[39m\u001b[38;5;124m'\u001b[39m)[\u001b[38;5;241m5\u001b[39m]\u001b[38;5;241m.\u001b[39msplit(\u001b[38;5;124m'\u001b[39m\u001b[38;5;124m_\u001b[39m\u001b[38;5;124m'\u001b[39m)[\u001b[38;5;241m3\u001b[39m]\n\u001b[1;32m      6\u001b[0m     year,julian,hhmm\u001b[38;5;241m=\u001b[39mstarttime[\u001b[38;5;241m1\u001b[39m:\u001b[38;5;241m5\u001b[39m],starttime[\u001b[38;5;241m5\u001b[39m:\u001b[38;5;241m8\u001b[39m],starttime[\u001b[38;5;241m8\u001b[39m:\u001b[38;5;241m12\u001b[39m]\n",
      "\u001b[0;31mIndexError\u001b[0m: list index out of range"
     ]
    }
   ],
   "source": [
    "#Loop through the files selected previously\n",
    "for i in range(0,len(files)):\n",
    "    #Gather the date-time information from the file\n",
    "    prodbase = files[i].split('/')[5][:23]\n",
    "    starttime = files[i].split('/')[5].split('_')[3]\n",
    "    year,julian,hhmm=starttime[1:5],starttime[5:8],starttime[8:12]\n",
    "    date_info=year+'-'+julian+'-'+hhmm\n",
    "    fileshtitle = prodbase+'-'+date_info\n",
    "    with fs.open(files[i], 'rb') as f:\n",
    "        with open(datadir+fileshtitle+'.nc', 'wb') as local_f:\n",
    "            local_f.write(f.read())"
   ]
  },
  {
   "cell_type": "code",
   "execution_count": 25,
   "id": "d778cd89-d9a5-4c11-8fba-280bcdd2ee7a",
   "metadata": {},
   "outputs": [],
   "source": [
    "#Gather the date-time information from the file\n",
    "prodbase = files.split('/')[5][:23]\n",
    "starttime = files.split('/')[5].split('_')[3]\n",
    "year,julian,hhmm=starttime[1:5],starttime[5:8],starttime[8:12]\n",
    "date_info=year+'-'+julian+'-'+hhmm\n",
    "fileshtitle = prodbase+'-'+date_info\n",
    "with fs.open(files, 'rb') as f:\n",
    "    with open(datadir+fileshtitle+'.nc', 'wb') as local_f:\n",
    "        local_f.write(f.read())\n"
   ]
  },
  {
   "cell_type": "code",
   "execution_count": null,
   "id": "6ef2baa7-1eae-42ad-a1fe-d99ac00fa206",
   "metadata": {},
   "outputs": [],
   "source": []
  }
 ],
 "metadata": {
  "kernelspec": {
   "display_name": "Python 3 (ipykernel)",
   "language": "python",
   "name": "python3"
  },
  "language_info": {
   "codemirror_mode": {
    "name": "ipython",
    "version": 3
   },
   "file_extension": ".py",
   "mimetype": "text/x-python",
   "name": "python",
   "nbconvert_exporter": "python",
   "pygments_lexer": "ipython3",
   "version": "3.12.5"
  }
 },
 "nbformat": 4,
 "nbformat_minor": 5
}
